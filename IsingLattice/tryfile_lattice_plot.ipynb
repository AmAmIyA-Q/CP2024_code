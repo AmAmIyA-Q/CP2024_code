{
 "cells": [
  {
   "cell_type": "code",
   "execution_count": 40,
   "metadata": {},
   "outputs": [
    {
     "name": "stdout",
     "output_type": "stream",
     "text": [
      "[[-1 -1  1  1 -1  1 -1]\n",
      " [ 1 -1 -1 -1 -1  1  1]]\n",
      "[[0.0, 0.0], [0.0, 1.0], [1.0, 0.0], [1.0, 1.0], [2.0, 0.0], [2.0, 1.0], [3.0, 0.0], [3.0, 1.0], [4.0, 0.0], [4.0, 1.0], [5.0, 0.0], [5.0, 1.0], [6.0, 0.0], [6.0, 1.0]]\n"
     ]
    },
    {
     "data": {
      "image/png": "[encoded data removed]",
      "text/plain": [
       "<Figure size 650x150 with 1 Axes>"
      ]
     },
     "metadata": {},
     "output_type": "display_data"
    }
   ],
   "source": [
    "import numpy as np\n",
    "import matplotlib.pyplot as plt\n",
    "\n",
    "row = 2\n",
    "col = 7\n",
    "\n",
    "state = random_array = np.random.choice([-1, 1], size=(row, col))\n",
    "color = np.where(random_array == 1, 'bo', 'ro')\n",
    "print(state)\n",
    "\n",
    "def main():\n",
    "    x_array = np.linspace(0, col-1, col)\n",
    "    y_array = np.linspace(0, row-1, row)\n",
    "    coordinates = []\n",
    "    for x in x_array:\n",
    "        for y in y_array:\n",
    "            coordinates.append([x, y])\n",
    "    print(coordinates)  \n",
    "    plot_dots(coordinates)\n",
    "\n",
    "\n",
    "def plot_dots(coordinates):\n",
    "    fig, ax = plt.subplots(figsize=(col-0.5,row-0.5))\n",
    "    plt.subplots_adjust(left=0.05, bottom=0.05, right=0.95, top=0.95)\n",
    "    plt.axis('off')\n",
    "    for i1 in range(len(coordinates)):\n",
    "        for i2 in range(len(coordinates)):\n",
    "            if np.sqrt((coordinates[i1][0] - coordinates[i2][0])**2+(coordinates[i1][1] - coordinates[i2][1])**2) < 1.1:\n",
    "                ax.plot([coordinates[i1][0], coordinates[i2][0]], [coordinates[i1][1], coordinates[i2][1]], '-k', linewidth=1)\n",
    "    for i in range(len(coordinates)):\n",
    "        ax.plot(coordinates[i][0], coordinates[i][1], \n",
    "                color[ int(coordinates[i][1]) ][ int(coordinates[i][0]) ], markersize=10)\n",
    "    # reverse y\n",
    "    ax.set_ylim(ax.get_ylim()[::-1])\n",
    "    # plt.savefig('square.eps') \n",
    "    plt.show()\n",
    "\n",
    "\n",
    "\n",
    "main()\n"
   ]
  },
  {
   "cell_type": "code",
   "execution_count": 17,
   "metadata": {},
   "outputs": [
    {
     "name": "stdout",
     "output_type": "stream",
     "text": [
      "000000000000000000000000000000000101\n",
      "[[ 1 -1  1 -1 -1 -1]\n",
      " [-1 -1 -1 -1 -1 -1]\n",
      " [-1 -1 -1 -1 -1 -1]\n",
      " [-1 -1 -1 -1 -1 -1]\n",
      " [-1 -1 -1 -1 -1 -1]\n",
      " [-1 -1 -1 -1 -1 -1]]\n"
     ]
    }
   ],
   "source": [
    "# 通过给定的配置码设置晶格中的自旋 5 -> 00000101 -> [[1, -1, 1], [-1, -1, -1], [-1, -1, -1]]\n",
    "configuration_code = 5\n",
    "num_rows = 6\n",
    "num_cols = 6\n",
    "spin = np.zeros((num_rows, num_cols))\n",
    "binary_string = bin(configuration_code)[2:].zfill(num_rows * num_cols)\n",
    "print(binary_string)\n",
    "\n",
    "spin_array = np.array([int(bit) * 2 - 1 for bit in binary_string])\n",
    "spin_array = np.flipud(spin_array)\n",
    "spin_array = spin_array.reshape(num_rows, num_cols)\n",
    "\n",
    "\n",
    "print(spin_array) "
   ]
  }
 ],
 "metadata": {
  "kernelspec": {
   "display_name": "ygj_AIGC",
   "language": "python",
   "name": "python3"
  },
  "language_info": {
   "codemirror_mode": {
    "name": "ipython",
    "version": 3
   },
   "file_extension": ".py",
   "mimetype": "text/x-python",
   "name": "python",
   "nbconvert_exporter": "python",
   "pygments_lexer": "ipython3",
   "version": "3.9.18"
  }
 },
 "nbformat": 4,
 "nbformat_minor": 2
}
