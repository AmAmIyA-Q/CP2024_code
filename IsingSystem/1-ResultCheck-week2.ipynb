{
 "cells": [
  {
   "cell_type": "code",
   "execution_count": 1,
   "metadata": {},
   "outputs": [],
   "source": [
    "import SpinManipulateClass as SMC\n",
    "import IsingSystemClass as ISC\n",
    "import numpy as np\n",
    "import matplotlib.pyplot as plt"
   ]
  },
  {
   "cell_type": "code",
   "execution_count": 2,
   "metadata": {},
   "outputs": [
    {
     "name": "stdout",
     "output_type": "stream",
     "text": [
      "Initial sz: 1\n",
      "After flipping: -1\n",
      "After flipping: 1\n"
     ]
    }
   ],
   "source": [
    "# 测试 IsingSpin 类的功能\n",
    "ising_spin = SMC.IsingSpin()\n",
    "print(\"Initial sz:\", ising_spin.get_sz())\n",
    "\n",
    "ising_spin.flip()\n",
    "print(\"After flipping:\", ising_spin.get_sz())\n",
    "\n",
    "ising_spin.flip()\n",
    "print(\"After flipping:\", ising_spin.get_sz())\n"
   ]
  },
  {
   "cell_type": "code",
   "execution_count": 3,
   "metadata": {},
   "outputs": [],
   "source": [
    "def classarray_to_array(class_array):\n",
    "    array = [class_array[i].get_sz() for i in range(len(class_array))]\n",
    "    return array"
   ]
  },
  {
   "cell_type": "code",
   "execution_count": 4,
   "metadata": {},
   "outputs": [
    {
     "name": "stdout",
     "output_type": "stream",
     "text": [
      "Initial spins: [-1, -1, 1, 1, 1, 1, 1, -1, -1, -1, 1, -1, 1, -1, 1, -1, 1, 1]\n",
      "Initial spins to array: [-1, -1, 1, 1, 1, 1, 1, -1, -1, -1, 1, -1, 1, -1, 1, -1, 1, 1]\n",
      "Initial Energy = -2 \n",
      "\n",
      "Final spins: [-1, -1, 1, 1, 1, 1, 1, -1, -1, -1, 1, -1, 1, -1, 1, -1, 1, 1]\n",
      "Final energy: -2\n"
     ]
    }
   ],
   "source": [
    "from OneDIsingModel import initialize_spins, calculate_energy, monte_carlo_simulation\n",
    "\n",
    "# Example usage\n",
    "N = 10  # Number of spins\n",
    "J = 1  # Interaction strength\n",
    "temperature = 2.0  # Temperature\n",
    "num_steps = 0  # Number of Monte Carlo steps\n",
    "\n",
    "# 创建多个自旋对象\n",
    "n_spin = 18\n",
    "spin_array = [SMC.IsingSpin() for _ in range(n_spin)]\n",
    "\n",
    "# 初始化自旋\n",
    "spin_random = initialize_spins(n_spin)\n",
    "for i in range(n_spin):\n",
    "    if spin_random[i] == 1:\n",
    "        spin_array[i].set_up()\n",
    "    if spin_random[i] == -1:\n",
    "        spin_array[i].set_dw()\n",
    "print(\"Initial spins:\", spin_random)\n",
    "print(\"Initial spins to array:\", [spin_array[i].get_sz() for i in range(n_spin)]) \n",
    "# print(\"Initial spins to array:\", classarray_to_array(spin_array))   \n",
    "\n",
    "# 计算初始能量\n",
    "J = -1\n",
    "energy = calculate_energy(classarray_to_array(spin_array), J)\n",
    "print(\"Initial Energy =\", energy, \"\\n\")\n",
    "\n",
    "# 进行蒙特卡洛模拟\n",
    "spins, energy = monte_carlo_simulation(N, J, temperature, num_steps, [spin_array[i].get_sz() for i in range(n_spin)], energy)\n",
    "print(\"Final spins:\", spins)\n",
    "print(\"Final energy:\", energy)"
   ]
  }
 ],
 "metadata": {
  "kernelspec": {
   "display_name": "CP",
   "language": "python",
   "name": "python3"
  },
  "language_info": {
   "codemirror_mode": {
    "name": "ipython",
    "version": 3
   },
   "file_extension": ".py",
   "mimetype": "text/x-python",
   "name": "python",
   "nbconvert_exporter": "python",
   "pygments_lexer": "ipython3",
   "version": "3.11.7"
  }
 },
 "nbformat": 4,
 "nbformat_minor": 2
}
