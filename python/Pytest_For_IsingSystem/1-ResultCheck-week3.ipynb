{
 "cells": [
  {
   "cell_type": "code",
   "execution_count": 6,
   "metadata": {},
   "outputs": [],
   "source": [
    "import numpy as np\n",
    "import matplotlib.pyplot as plt\n",
    "import IsingSystemClass as ISC"
   ]
  },
  {
   "cell_type": "markdown",
   "metadata": {},
   "source": [
    "Hamiltonian\n",
    "$$\\begin{equation}\\begin{aligned}H=-\\frac{1}{2}\\sum_{i,j}J_{ij}\\sigma_i\\sigma_j&&\\sigma_i=\\pm1&&\\text{at each site }i\\end{aligned}\\end{equation}$$\n",
    "\n",
    "Magnetization\n",
    "$$\\begin{equation}M=\\sum_i\\sigma_i\\end{equation}$$\n",
    "\n",
    "Coupling constant\n",
    "$$\\begin{equation}\\left.J_{ij}=\\left\\{ \\begin{array}{l}-1,~if ~\\left|i-j\\right| =1~or ~n-1\\\\\n",
    "~~~0, ~others\\end{array}\\right.\\right.\\end{equation}$$"
   ]
  },
  {
   "cell_type": "code",
   "execution_count": 7,
   "metadata": {},
   "outputs": [
    {
     "name": "stdout",
     "output_type": "stream",
     "text": [
      "For configuration 7:\n",
      "[-1 -1 -1 -1 -1 -1 -1  1  1  1]\n",
      "Total Magnetization: -4\n",
      "Total Energy: 6.0\n",
      "\n",
      "For configuration 77:\n",
      "[-1 -1 -1  1 -1 -1  1  1 -1  1]\n",
      "Total Magnetization: -2\n",
      "Total Energy: -2.0\n",
      "\n",
      "For configuration 777:\n",
      "[ 1  1 -1 -1 -1 -1  1 -1 -1  1]\n",
      "Total Magnetization: -2\n",
      "Total Energy: 2.0\n",
      "\n"
     ]
    }
   ],
   "source": [
    "# Example usage:\n",
    "n = 10\n",
    "system = ISC.IsingSystem(n)\n",
    "\n",
    "configurations = [7, 77, 777]\n",
    "\n",
    "for config in configurations:\n",
    "    system.set_spin_configuration(config)\n",
    "    system.change_J(-1)\n",
    "\n",
    "    M = system.calculate_total_magnetization()\n",
    "    E = system.calculate_total_energy()\n",
    "\n",
    "    print(f\"For configuration {config}:\")\n",
    "    print(system.get_spin_state())\n",
    "    print(f\"Total Magnetization: {M}\")\n",
    "    print(f\"Total Energy: {E}\")\n",
    "    print()"
   ]
  }
 ],
 "metadata": {
  "kernelspec": {
   "display_name": "CP",
   "language": "python",
   "name": "python3"
  },
  "language_info": {
   "codemirror_mode": {
    "name": "ipython",
    "version": 3
   },
   "file_extension": ".py",
   "mimetype": "text/x-python",
   "name": "python",
   "nbconvert_exporter": "python",
   "pygments_lexer": "ipython3",
   "version": "3.11.7"
  }
 },
 "nbformat": 4,
 "nbformat_minor": 2
}
