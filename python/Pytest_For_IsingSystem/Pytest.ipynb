{
 "cells": [
  {
   "cell_type": "code",
   "execution_count": 18,
   "metadata": {},
   "outputs": [
    {
     "name": "stdout",
     "output_type": "stream",
     "text": [
      "Requirement already satisfied: pytest in /home/mamiya/anaconda3/envs/CP/lib/python3.11/site-packages (8.1.1)\n",
      "Requirement already satisfied: iniconfig in /home/mamiya/anaconda3/envs/CP/lib/python3.11/site-packages (from pytest) (2.0.0)\n",
      "Requirement already satisfied: packaging in /home/mamiya/anaconda3/envs/CP/lib/python3.11/site-packages (from pytest) (23.2)\n",
      "Requirement already satisfied: pluggy<2.0,>=1.4 in /home/mamiya/anaconda3/envs/CP/lib/python3.11/site-packages (from pytest) (1.4.0)\n",
      "Note: you may need to restart the kernel to use updated packages.\n"
     ]
    }
   ],
   "source": [
    "pip install -U pytest"
   ]
  },
  {
   "cell_type": "code",
   "execution_count": 19,
   "metadata": {},
   "outputs": [
    {
     "name": "stdout",
     "output_type": "stream",
     "text": [
      "\u001b[1m============================= test session starts ==============================\u001b[0m\n",
      "platform linux -- Python 3.11.7, pytest-8.1.1, pluggy-1.4.0\n",
      "rootdir: /home/mamiya/文档/CP2024_code/python/Pytest_For_IsingSystem\n",
      "collected 19 items                                                             \u001b[0m\n",
      "\n",
      "Pytest.py \u001b[32m.\u001b[0m\u001b[32m.\u001b[0m\u001b[32m.\u001b[0m\u001b[32m.\u001b[0m\u001b[32m.\u001b[0m\u001b[32m.\u001b[0m\u001b[32m.\u001b[0m\u001b[32m.\u001b[0m\u001b[32m.\u001b[0m\u001b[32m.\u001b[0m\u001b[32m.\u001b[0m\u001b[32m.\u001b[0m\u001b[32m.\u001b[0m\u001b[32m.\u001b[0m\u001b[32m.\u001b[0m\u001b[32m.\u001b[0m\u001b[32m.\u001b[0m\u001b[32m.\u001b[0m\u001b[32m.\u001b[0m\u001b[32m                                            [100%]\u001b[0m\n",
      "\n",
      "\u001b[32m============================== \u001b[32m\u001b[1m19 passed\u001b[0m\u001b[32m in 0.09s\u001b[0m\u001b[32m ==============================\u001b[0m\n"
     ]
    }
   ],
   "source": [
    "!pytest Pytest.py"
   ]
  }
 ],
 "metadata": {
  "kernelspec": {
   "display_name": "CP",
   "language": "python",
   "name": "python3"
  },
  "language_info": {
   "codemirror_mode": {
    "name": "ipython",
    "version": 3
   },
   "file_extension": ".py",
   "mimetype": "text/x-python",
   "name": "python",
   "nbconvert_exporter": "python",
   "pygments_lexer": "ipython3",
   "version": "3.11.7"
  }
 },
 "nbformat": 4,
 "nbformat_minor": 2
}
