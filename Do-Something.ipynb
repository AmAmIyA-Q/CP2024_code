{
 "cells": [
  {
   "cell_type": "code",
   "execution_count": 4,
   "metadata": {},
   "outputs": [],
   "source": [
    "!conda list --export > requirements.txt"
   ]
  },
  {
   "cell_type": "code",
   "execution_count": 1,
   "metadata": {},
   "outputs": [
    {
     "name": "stderr",
     "output_type": "stream",
     "text": [
      "warning: in the working copy of 'FastIsingLattice/1-ResultCheck copy.ipynb', LF will be replaced by CRLF the next time Git touches it\n",
      "warning: in the working copy of 'FastIsingLattice/1-ResultCheck.ipynb', LF will be replaced by CRLF the next time Git touches it\n",
      "warning: in the working copy of 'FastIsingLattice/try.ipynb', LF will be replaced by CRLF the next time Git touches it\n",
      "warning: in the working copy of 'IsingLattice/1-ResultCheck.ipynb', LF will be replaced by CRLF the next time Git touches it\n",
      "warning: in the working copy of 'IsingLattice/2-ResultCheck-threading.ipynb', LF will be replaced by CRLF the next time Git touches it\n",
      "warning: in the working copy of 'IsingLattice/3-ResultCheck.ipynb', LF will be replaced by CRLF the next time Git touches it\n",
      "warning: in the working copy of 'IsingLattice/tryfile_lattice_plot.ipynb', LF will be replaced by CRLF the next time Git touches it\n",
      "warning: in the working copy of 'Do-Something.ipynb', LF will be replaced by CRLF the next time Git touches it\n"
     ]
    }
   ],
   "source": [
    "!git add ."
   ]
  },
  {
   "cell_type": "code",
   "execution_count": 2,
   "metadata": {},
   "outputs": [
    {
     "name": "stdout",
     "output_type": "stream",
     "text": [
      "[main 35cba7e] gitignore\n",
      " 3 files changed, 257 insertions(+)\n",
      " create mode 100644 .github/workflows/try.yml\n",
      " create mode 100644 Do-Something.ipynb\n",
      " create mode 100644 requirements.txt\n"
     ]
    }
   ],
   "source": [
    "!git commit -m \"gitignore\" "
   ]
  },
  {
   "cell_type": "code",
   "execution_count": 3,
   "metadata": {},
   "outputs": [
    {
     "name": "stdout",
     "output_type": "stream",
     "text": [
      "branch 'main' set up to track 'origin/main'.\n"
     ]
    },
    {
     "name": "stderr",
     "output_type": "stream",
     "text": [
      "To https://github.com/AmAmIyA-Q/CP2024_code.git\n",
      "   46d355b..35cba7e  main -> main\n"
     ]
    }
   ],
   "source": [
    "!git push -u origin main"
   ]
  }
 ],
 "metadata": {
  "kernelspec": {
   "display_name": "pytorch",
   "language": "python",
   "name": "python3"
  },
  "language_info": {
   "codemirror_mode": {
    "name": "ipython",
    "version": 3
   },
   "file_extension": ".py",
   "mimetype": "text/x-python",
   "name": "python",
   "nbconvert_exporter": "python",
   "pygments_lexer": "ipython3",
   "version": "3.11.5"
  }
 },
 "nbformat": 4,
 "nbformat_minor": 2
}
